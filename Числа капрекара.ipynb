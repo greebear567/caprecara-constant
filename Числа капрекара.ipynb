{
 "cells": [
  {
   "cell_type": "code",
   "execution_count": 1,
   "id": "738fd6a7",
   "metadata": {},
   "outputs": [
    {
     "name": "stdout",
     "output_type": "stream",
     "text": [
      "1234\n",
      "3087\n",
      "8352\n",
      "6174\n"
     ]
    }
   ],
   "source": [
    "def numerics(n):\n",
    "    n=str(n)\n",
    "    l1=[int(i) for i in n]\n",
    "    return l1\n",
    "\n",
    "\n",
    "def kaprekar_check(n):\n",
    "    l1=numerics(n)\n",
    "    l1=set(l1)\n",
    "    if len(l1)>1 and n!=1000 and n!=100000 and n>100 and n<1000000:\n",
    "        return True\n",
    "    else:\n",
    "        return False\n",
    "\n",
    "def kaprekar_step(L):\n",
    "    l1=sorted(map(int,L))\n",
    "    l2=''.join(map(str,l1))\n",
    "    l1=l1[-1::-1]\n",
    "    l1=''.join(map(str,l1))\n",
    "    return int(l1)-int(l2)\n",
    "    \n",
    "def kaprekar_loop(n):\n",
    "    if not kaprekar_check(n):\n",
    "        print('Ошибка! На вход подано число',str(n)+', не удовлетворяющее условиям процесса Капрекара')\n",
    "        return\n",
    "    l1=numerics(n)\n",
    "    res=[n]\n",
    "    i=0\n",
    "    while res[0]!=res[-1] or len(res)==1:\n",
    "        print(res[i])\n",
    "        if res[-1]==631764 or res[-1]==495 or res[-1]==6174 or res[-1]==549945:\n",
    "            return \n",
    "        res.append(kaprekar_step(numerics(res[i])))\n",
    "        i+=1\n",
    "        for j in range(len(res)-1):\n",
    "            if res[j]==res[i]:\n",
    "                print('Следующее число -',str(res[i])+', кажется процесс зациклился...')\n",
    "                return\n",
    "kaprekar_loop(1234)"
   ]
  }
 ],
 "metadata": {
  "kernelspec": {
   "display_name": "Python 3 (ipykernel)",
   "language": "python",
   "name": "python3"
  },
  "language_info": {
   "codemirror_mode": {
    "name": "ipython",
    "version": 3
   },
   "file_extension": ".py",
   "mimetype": "text/x-python",
   "name": "python",
   "nbconvert_exporter": "python",
   "pygments_lexer": "ipython3",
   "version": "3.9.10"
  }
 },
 "nbformat": 4,
 "nbformat_minor": 5
}
